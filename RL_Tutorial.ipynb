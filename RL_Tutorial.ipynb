{
  "nbformat": 4,
  "nbformat_minor": 0,
  "metadata": {
    "colab": {
      "name": "RL_Tutorial.ipynb",
      "provenance": [],
      "authorship_tag": "ABX9TyPkYZ3Iiis13TrfRAZ2Wf1p",
      "include_colab_link": true
    },
    "kernelspec": {
      "name": "python3",
      "display_name": "Python 3"
    }
  },
  "cells": [
    {
      "cell_type": "markdown",
      "metadata": {
        "id": "view-in-github",
        "colab_type": "text"
      },
      "source": [
        "<a href=\"https://colab.research.google.com/github/kimchitsigai/Articles-and-Tutorials/blob/master/RL_Tutorial.ipynb\" target=\"_parent\"><img src=\"https://colab.research.google.com/assets/colab-badge.svg\" alt=\"Open In Colab\"/></a>"
      ]
    },
    {
      "cell_type": "code",
      "metadata": {
        "id": "EzD_jcpzNiLj",
        "colab_type": "code",
        "colab": {}
      },
      "source": [
        "import gym\n",
        "import numpy as np"
      ],
      "execution_count": 0,
      "outputs": []
    },
    {
      "cell_type": "code",
      "metadata": {
        "id": "pnR0_G2KNnHm",
        "colab_type": "code",
        "colab": {}
      },
      "source": [
        "env = gym.make('FrozenLake-v0')\n"
      ],
      "execution_count": 0,
      "outputs": []
    },
    {
      "cell_type": "code",
      "metadata": {
        "id": "RBJO2wDvNunG",
        "colab_type": "code",
        "colab": {
          "base_uri": "https://localhost:8080/",
          "height": 34
        },
        "outputId": "a9f7b58b-ab39-407f-991c-083ae78cb8f1"
      },
      "source": [
        "env"
      ],
      "execution_count": 3,
      "outputs": [
        {
          "output_type": "execute_result",
          "data": {
            "text/plain": [
              "<TimeLimit<FrozenLakeEnv<FrozenLake-v0>>>"
            ]
          },
          "metadata": {
            "tags": []
          },
          "execution_count": 3
        }
      ]
    },
    {
      "cell_type": "code",
      "metadata": {
        "id": "I_rUfQihNxeO",
        "colab_type": "code",
        "colab": {}
      },
      "source": [
        "\n",
        "#Initialize table with all zeros\n",
        "Q = np.zeros([env.observation_space.n,env.action_space.n])\n",
        "# Set learning parameters\n",
        "lr = .8\n",
        "y = .95\n",
        "num_episodes = 2000\n",
        "#create lists to contain total rewards and steps per episode\n",
        "#jList = []\n",
        "rList = []\n",
        "for i in range(num_episodes):\n",
        "    #Reset environment and get first new observation\n",
        "    s = env.reset()\n",
        "    rAll = 0\n",
        "    d = False\n",
        "    j = 0\n",
        "    #The Q-Table learning algorithm\n",
        "    while j < 99:\n",
        "        j+=1\n",
        "        #Choose an action by greedily (with noise) picking from Q table\n",
        "        #le randn est différent pour chacune des 4 actions de l'état courant \n",
        "        a = np.argmax(Q[s,:] + np.random.randn(1,env.action_space.n)*(1./(i+1)))\n",
        "        #Get new state and reward from environment\n",
        "        s1,r,d,_ = env.step(a)\n",
        "        #Update Q-Table with new knowledge\n",
        "        Q[s,a] = Q[s,a] + lr*(r + y*np.max(Q[s1,:]) - Q[s,a])\n",
        "        rAll += r\n",
        "        s = s1\n",
        "        if d == True:\n",
        "            break\n",
        "    #jList.append(j)\n",
        "    rList.append(rAll)"
      ],
      "execution_count": 0,
      "outputs": []
    },
    {
      "cell_type": "code",
      "metadata": {
        "id": "J_3-wqY2N2lq",
        "colab_type": "code",
        "colab": {
          "base_uri": "https://localhost:8080/",
          "height": 34
        },
        "outputId": "2bd9df17-da7f-4726-a64c-c85fe6e9a993"
      },
      "source": [
        "print (\"Score over time: \" +  str(sum(rList)/num_episodes))"
      ],
      "execution_count": 6,
      "outputs": [
        {
          "output_type": "stream",
          "text": [
            "Score over time: 0.4625\n"
          ],
          "name": "stdout"
        }
      ]
    },
    {
      "cell_type": "code",
      "metadata": {
        "id": "c615IjDdN_Y6",
        "colab_type": "code",
        "colab": {
          "base_uri": "https://localhost:8080/",
          "height": 306
        },
        "outputId": "db0fca6a-344f-4d5f-abc3-48ac92ee24cb"
      },
      "source": [
        "print (\"Final Q-Table Values\")\n",
        "print (Q)"
      ],
      "execution_count": 8,
      "outputs": [
        {
          "output_type": "stream",
          "text": [
            "Final Q-Table Values\n",
            "[[3.77394885e-02 7.30126311e-03 5.71924915e-03 7.79516071e-03]\n",
            " [1.42329380e-03 3.91167945e-03 1.83398230e-03 1.24025745e-01]\n",
            " [1.86820902e-03 1.89634557e-03 2.31937176e-03 1.24892340e-01]\n",
            " [1.86001377e-04 2.31961625e-04 8.03343115e-04 4.57683587e-02]\n",
            " [3.73928675e-02 8.31728919e-06 5.05993114e-04 1.31298687e-03]\n",
            " [0.00000000e+00 0.00000000e+00 0.00000000e+00 0.00000000e+00]\n",
            " [1.14062961e-02 4.28088301e-07 1.14659682e-04 1.49686563e-06]\n",
            " [0.00000000e+00 0.00000000e+00 0.00000000e+00 0.00000000e+00]\n",
            " [6.61327482e-04 2.83958672e-03 4.44349462e-04 2.76391234e-01]\n",
            " [3.26603224e-03 6.83586091e-01 7.59889620e-04 1.03917381e-03]\n",
            " [5.61996517e-01 8.41273770e-05 5.12516885e-04 5.11116858e-04]\n",
            " [0.00000000e+00 0.00000000e+00 0.00000000e+00 0.00000000e+00]\n",
            " [0.00000000e+00 0.00000000e+00 0.00000000e+00 0.00000000e+00]\n",
            " [1.83166170e-03 7.23136195e-04 8.60379221e-01 6.29525632e-03]\n",
            " [0.00000000e+00 0.00000000e+00 0.00000000e+00 9.83976559e-01]\n",
            " [0.00000000e+00 0.00000000e+00 0.00000000e+00 0.00000000e+00]]\n"
          ],
          "name": "stdout"
        }
      ]
    },
    {
      "cell_type": "code",
      "metadata": {
        "id": "rjEzfD-_OQ19",
        "colab_type": "code",
        "colab": {}
      },
      "source": [
        "#on fait edssous dessous droite etc."
      ],
      "execution_count": 0,
      "outputs": []
    }
  ]
}